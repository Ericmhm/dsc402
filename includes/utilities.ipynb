{
 "cells": [
  {
   "cell_type": "code",
   "execution_count": 7,
   "metadata": {
    "application/vnd.databricks.v1+cell": {
     "inputWidgets": {},
     "nuid": "da3a4dab-6eab-48f2-8caa-4734105576de",
     "showTitle": false,
     "title": ""
    }
   },
   "outputs": [],
   "source": [
    "from urllib.request import urlretrieve\n",
    "import os"
   ]
  },
  {
   "cell_type": "markdown",
   "metadata": {
    "application/vnd.databricks.v1+cell": {
     "inputWidgets": {},
     "nuid": "218ac546-3295-4b46-88ce-c4fa792117c1",
     "showTitle": false,
     "title": ""
    }
   },
   "source": [
    "## Define Data Paths"
   ]
  },
  {
   "cell_type": "code",
   "execution_count": 8,
   "metadata": {
    "application/vnd.databricks.v1+cell": {
     "inputWidgets": {},
     "nuid": "c98935b3-41ae-4f49-8998-1ccd0ece6b31",
     "showTitle": false,
     "title": ""
    }
   },
   "outputs": [],
   "source": [
    "# Fill in your user name here....\n",
    "username = \"lpalum\"\n",
    "experiment_id = None"
   ]
  },
  {
   "cell_type": "code",
   "execution_count": 9,
   "metadata": {
    "application/vnd.databricks.v1+cell": {
     "inputWidgets": {},
     "nuid": "e736d695-70b5-48c6-845a-b1d8771400f4",
     "showTitle": false,
     "title": ""
    }
   },
   "outputs": [],
   "source": [
    "projectPath     = f\"/home/jovyan/work/dsc402/{username}/mlmodels/profile/\"\n",
    "landingPath     = projectPath + \"landing/\"\n",
    "silverDailyPath = projectPath + \"daily/\"\n",
    "dimUserPath     = projectPath + \"users/\"\n",
    "goldPath        = projectPath + \"gold/\"\n",
    "\n",
    "if not os.path.exists('/home/jovyan/work/dsc402'):\n",
    "    os.makedirs('/home/jovyan/work/dsc402')\n",
    "if not os.path.exists('/home/jovyan/work/dsc402/{username}'):\n",
    "    os.makedirs('/home/jovyan/work/dsc402/{username}')\n",
    "if not os.path.exists('/home/jovyan/work/dsc402/{username}/mlmodels'):\n",
    "    os.makedirs('/home/jovyan/work/dsc402/{username}/mlmodels')\n",
    "if not os.path.exists(projectPath):\n",
    "    os.makedirs(projectPath)\n",
    "if not os.path.exists(landingPath):\n",
    "    os.makedirs(landingPath)\n",
    "if not os.path.exists(silverDailyPath):\n",
    "    os.makedirs(silverDailyPath)\n",
    "if not os.path.exists(dimUserPath):\n",
    "    os.makedirs(dimUserPath)\n",
    "if not os.path.exists(goldPath):\n",
    "    os.makedirs(goldPath)"
   ]
  },
  {
   "cell_type": "markdown",
   "metadata": {
    "application/vnd.databricks.v1+cell": {
     "inputWidgets": {},
     "nuid": "89601109-f608-4890-a7df-8f509917d1cc",
     "showTitle": false,
     "title": ""
    }
   },
   "source": [
    "## Configure Database"
   ]
  },
  {
   "cell_type": "code",
   "execution_count": 6,
   "metadata": {
    "application/vnd.databricks.v1+cell": {
     "inputWidgets": {},
     "nuid": "38d5996d-79ac-40ca-8e14-1f35cd784d7b",
     "showTitle": false,
     "title": ""
    }
   },
   "outputs": [
    {
     "ename": "NameError",
     "evalue": "name 'spark' is not defined",
     "output_type": "error",
     "traceback": [
      "\u001b[0;31m---------------------------------------------------------------------------\u001b[0m",
      "\u001b[0;31mNameError\u001b[0m                                 Traceback (most recent call last)",
      "\u001b[0;32m<ipython-input-6-3b3f4816c8c2>\u001b[0m in \u001b[0;36m<module>\u001b[0;34m\u001b[0m\n\u001b[0;32m----> 1\u001b[0;31m \u001b[0mspark\u001b[0m\u001b[0;34m.\u001b[0m\u001b[0msql\u001b[0m\u001b[0;34m(\u001b[0m\u001b[0;34mf\"CREATE DATABASE IF NOT EXISTS dsc402_{username}\"\u001b[0m\u001b[0;34m)\u001b[0m\u001b[0;34m\u001b[0m\u001b[0;34m\u001b[0m\u001b[0m\n\u001b[0m\u001b[1;32m      2\u001b[0m \u001b[0mspark\u001b[0m\u001b[0;34m.\u001b[0m\u001b[0msql\u001b[0m\u001b[0;34m(\u001b[0m\u001b[0;34mf\"USE dsc402_{username}\"\u001b[0m\u001b[0;34m)\u001b[0m\u001b[0;34m;\u001b[0m\u001b[0;34m\u001b[0m\u001b[0;34m\u001b[0m\u001b[0m\n",
      "\u001b[0;31mNameError\u001b[0m: name 'spark' is not defined"
     ]
    }
   ],
   "source": [
    "spark.sql(f\"CREATE DATABASE IF NOT EXISTS dsc402_{username}\")\n",
    "spark.sql(f\"USE dsc402_{username}\");"
   ]
  },
  {
   "cell_type": "markdown",
   "metadata": {},
   "source": [
    "## Utility functions"
   ]
  },
  {
   "cell_type": "code",
   "execution_count": null,
   "metadata": {
    "application/vnd.databricks.v1+cell": {
     "inputWidgets": {},
     "nuid": "83892220-f19d-40f4-9483-745db277d612",
     "showTitle": false,
     "title": ""
    }
   },
   "outputs": [],
   "source": [
    "def retrieve_data(file: str) -> bool:\n",
    "  \"\"\"Download file from remote location to landing path.\"\"\"\n",
    "  base_url = \"https://files.training.databricks.com/static/data/health-tracker/\"\n",
    "  urlretrieve(base_url + file, landingPath + file)\n",
    "  return True\n",
    "\n",
    "def load_delta_table(file: str, delta_table_path: str) -> bool:\n",
    "  \"Load a parquet file as a Delta table.\"\n",
    "  parquet_df = spark.read.format(\"parquet\").load(landingPath + file)\n",
    "  parquet_df.write.format(\"delta\").mode(\"overwrite\").save(delta_table_path)\n",
    "  return True\n",
    "\n",
    "def process_file(file_name: str, path: str,  table_name: str) -> bool:\n",
    "  \"\"\"\n",
    "  1. retrieve file\n",
    "  2. load as delta table\n",
    "  3. register table in the metastore\n",
    "  \"\"\"\n",
    "\n",
    "  retrieve_data(file_name)\n",
    "  print(f\"Retrieve {file_name}.\")\n",
    "\n",
    "  load_delta_table(file_name, path)\n",
    "  print(f\"Load {file_name} to {path}\")\n",
    "\n",
    "  spark.sql(f\"\"\"\n",
    "  DROP TABLE IF EXISTS {table_name}\n",
    "  \"\"\")\n",
    "\n",
    "  spark.sql(f\"\"\"\n",
    "  CREATE TABLE {table_name}\n",
    "  USING DELTA\n",
    "  LOCATION \"{path}\"\n",
    "  \"\"\")\n",
    "\n",
    "  print(f\"Register {table_name} using path: {path}\")\n"
   ]
  }
 ],
 "metadata": {
  "application/vnd.databricks.v1+notebook": {
   "dashboards": [],
   "language": "python",
   "notebookName": "utilities",
   "notebookOrigID": 565724875451182,
   "widgets": {}
  },
  "kernelspec": {
   "display_name": "Python 3",
   "language": "python",
   "name": "python3"
  },
  "language_info": {
   "codemirror_mode": {
    "name": "ipython",
    "version": 3
   },
   "file_extension": ".py",
   "mimetype": "text/x-python",
   "name": "python",
   "nbconvert_exporter": "python",
   "pygments_lexer": "ipython3",
   "version": "3.8.6"
  }
 },
 "nbformat": 4,
 "nbformat_minor": 4
}
