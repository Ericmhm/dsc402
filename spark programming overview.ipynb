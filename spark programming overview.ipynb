{
 "cells": [
  {
   "cell_type": "markdown",
   "metadata": {},
   "source": [
    "## Dataframe API Concepts\n",
    "- Subsetting DataFrames (select, filter, etc.)\n",
    "- Column manipulation (casting, creating columns, manipulating existing columns, complex column types)\n",
    "- String manipulation (Splitting strings, regular expressions)\n",
    "- Performance-based operations (repartitioning, shuffle partitions, caching)\n",
    "- Combining DataFrames (joins, broadcasting, unions, etc.)\n",
    "- Reading/writing DataFrames (schemas, overwriting)\n",
    "- Working with dates (extraction, formatting, etc.)\n",
    "- Aggregations\n",
    "- Miscellaneous (sorting, missing values, typed UDFs, value extraction, sampling)\n"
   ]
  },
  {
   "cell_type": "code",
   "execution_count": 1,
   "metadata": {},
   "outputs": [],
   "source": [
    "from pyspark.sql import SparkSession\n",
    "from pyspark.sql.functions import col, sum, stddev\n",
    "from pyspark.sql.types import IntegerType\n",
    "import matplotlib.pyplot as plt\n",
    "from pyspark import SparkContext, SparkConf, SQLContext\n",
    "import os\n",
    "\n",
    "spark = (SparkSession\n",
    "         .builder\n",
    "         .appName(\"spark-programming-overview\")\n",
    "         .master(\"spark://spark-master:7077\")\n",
    "         .config(\"spark.executor.memory\", \"1024m\")\n",
    "         .getOrCreate())"
   ]
  },
  {
   "cell_type": "code",
   "execution_count": 2,
   "metadata": {},
   "outputs": [],
   "source": [
    "df = spark.read.csv(\"co-est2019-alldata.csv\", header=True)"
   ]
  },
  {
   "cell_type": "code",
   "execution_count": 3,
   "metadata": {},
   "outputs": [
    {
     "data": {
      "text/html": [
       "<div>\n",
       "<style scoped>\n",
       "    .dataframe tbody tr th:only-of-type {\n",
       "        vertical-align: middle;\n",
       "    }\n",
       "\n",
       "    .dataframe tbody tr th {\n",
       "        vertical-align: top;\n",
       "    }\n",
       "\n",
       "    .dataframe thead th {\n",
       "        text-align: right;\n",
       "    }\n",
       "</style>\n",
       "<table border=\"1\" class=\"dataframe\">\n",
       "  <thead>\n",
       "    <tr style=\"text-align: right;\">\n",
       "      <th></th>\n",
       "      <th>SUMLEV</th>\n",
       "      <th>REGION</th>\n",
       "      <th>DIVISION</th>\n",
       "      <th>STATE</th>\n",
       "      <th>COUNTY</th>\n",
       "      <th>STNAME</th>\n",
       "      <th>CTYNAME</th>\n",
       "      <th>CENSUS2010POP</th>\n",
       "      <th>ESTIMATESBASE2010</th>\n",
       "      <th>POPESTIMATE2010</th>\n",
       "      <th>...</th>\n",
       "      <th>RDOMESTICMIG2019</th>\n",
       "      <th>RNETMIG2011</th>\n",
       "      <th>RNETMIG2012</th>\n",
       "      <th>RNETMIG2013</th>\n",
       "      <th>RNETMIG2014</th>\n",
       "      <th>RNETMIG2015</th>\n",
       "      <th>RNETMIG2016</th>\n",
       "      <th>RNETMIG2017</th>\n",
       "      <th>RNETMIG2018</th>\n",
       "      <th>RNETMIG2019</th>\n",
       "    </tr>\n",
       "  </thead>\n",
       "  <tbody>\n",
       "    <tr>\n",
       "      <th>0</th>\n",
       "      <td>040</td>\n",
       "      <td>3</td>\n",
       "      <td>6</td>\n",
       "      <td>01</td>\n",
       "      <td>000</td>\n",
       "      <td>Alabama</td>\n",
       "      <td>Alabama</td>\n",
       "      <td>4779736</td>\n",
       "      <td>4780125</td>\n",
       "      <td>4785437</td>\n",
       "      <td>...</td>\n",
       "      <td>1.9175014754</td>\n",
       "      <td>0.5784335677</td>\n",
       "      <td>1.1863137707</td>\n",
       "      <td>1.5225486174</td>\n",
       "      <td>0.5634892079</td>\n",
       "      <td>0.6263573914</td>\n",
       "      <td>0.7451724354</td>\n",
       "      <td>1.0903664003</td>\n",
       "      <td>1.7737864964</td>\n",
       "      <td>2.4837435218</td>\n",
       "    </tr>\n",
       "    <tr>\n",
       "      <th>1</th>\n",
       "      <td>050</td>\n",
       "      <td>3</td>\n",
       "      <td>6</td>\n",
       "      <td>01</td>\n",
       "      <td>001</td>\n",
       "      <td>Alabama</td>\n",
       "      <td>Autauga County</td>\n",
       "      <td>54571</td>\n",
       "      <td>54597</td>\n",
       "      <td>54773</td>\n",
       "      <td>...</td>\n",
       "      <td>4.8473097431</td>\n",
       "      <td>6.0181818182</td>\n",
       "      <td>-6.226118841</td>\n",
       "      <td>-3.902225545</td>\n",
       "      <td>1.9704433498</td>\n",
       "      <td>-1.712874805</td>\n",
       "      <td>4.777171297</td>\n",
       "      <td>0.8496560701</td>\n",
       "      <td>0.5409157704</td>\n",
       "      <td>4.5600617583</td>\n",
       "    </tr>\n",
       "    <tr>\n",
       "      <th>2</th>\n",
       "      <td>050</td>\n",
       "      <td>3</td>\n",
       "      <td>6</td>\n",
       "      <td>01</td>\n",
       "      <td>003</td>\n",
       "      <td>Alabama</td>\n",
       "      <td>Baldwin County</td>\n",
       "      <td>182265</td>\n",
       "      <td>182265</td>\n",
       "      <td>183112</td>\n",
       "      <td>...</td>\n",
       "      <td>24.017828601</td>\n",
       "      <td>16.641869776</td>\n",
       "      <td>17.488578535</td>\n",
       "      <td>22.751473911</td>\n",
       "      <td>20.184333668</td>\n",
       "      <td>17.725963762</td>\n",
       "      <td>21.27929069</td>\n",
       "      <td>22.398255745</td>\n",
       "      <td>24.727215272</td>\n",
       "      <td>24.380567187</td>\n",
       "    </tr>\n",
       "    <tr>\n",
       "      <th>3</th>\n",
       "      <td>050</td>\n",
       "      <td>3</td>\n",
       "      <td>6</td>\n",
       "      <td>01</td>\n",
       "      <td>005</td>\n",
       "      <td>Alabama</td>\n",
       "      <td>Barbour County</td>\n",
       "      <td>27457</td>\n",
       "      <td>27455</td>\n",
       "      <td>27327</td>\n",
       "      <td>...</td>\n",
       "      <td>-5.690302272</td>\n",
       "      <td>0.2926757884</td>\n",
       "      <td>-6.897816914</td>\n",
       "      <td>-8.13218497</td>\n",
       "      <td>-5.140430604</td>\n",
       "      <td>-15.72457483</td>\n",
       "      <td>-18.2380157</td>\n",
       "      <td>-24.99852834</td>\n",
       "      <td>-8.754922145</td>\n",
       "      <td>-5.165664474</td>\n",
       "    </tr>\n",
       "    <tr>\n",
       "      <th>4</th>\n",
       "      <td>050</td>\n",
       "      <td>3</td>\n",
       "      <td>6</td>\n",
       "      <td>01</td>\n",
       "      <td>007</td>\n",
       "      <td>Alabama</td>\n",
       "      <td>Bibb County</td>\n",
       "      <td>22915</td>\n",
       "      <td>22915</td>\n",
       "      <td>22870</td>\n",
       "      <td>...</td>\n",
       "      <td>1.3851343804</td>\n",
       "      <td>-4.998355804</td>\n",
       "      <td>-3.787545142</td>\n",
       "      <td>-5.797999469</td>\n",
       "      <td>1.3311443404</td>\n",
       "      <td>1.3298167069</td>\n",
       "      <td>-0.708717222</td>\n",
       "      <td>-3.234668557</td>\n",
       "      <td>-6.85709197</td>\n",
       "      <td>1.8319519224</td>\n",
       "    </tr>\n",
       "  </tbody>\n",
       "</table>\n",
       "<p>5 rows × 164 columns</p>\n",
       "</div>"
      ],
      "text/plain": [
       "  SUMLEV REGION DIVISION STATE COUNTY   STNAME         CTYNAME CENSUS2010POP  \\\n",
       "0    040      3        6    01    000  Alabama         Alabama       4779736   \n",
       "1    050      3        6    01    001  Alabama  Autauga County         54571   \n",
       "2    050      3        6    01    003  Alabama  Baldwin County        182265   \n",
       "3    050      3        6    01    005  Alabama  Barbour County         27457   \n",
       "4    050      3        6    01    007  Alabama     Bibb County         22915   \n",
       "\n",
       "  ESTIMATESBASE2010 POPESTIMATE2010  ... RDOMESTICMIG2019   RNETMIG2011  \\\n",
       "0           4780125         4785437  ...     1.9175014754  0.5784335677   \n",
       "1             54597           54773  ...     4.8473097431  6.0181818182   \n",
       "2            182265          183112  ...     24.017828601  16.641869776   \n",
       "3             27455           27327  ...     -5.690302272  0.2926757884   \n",
       "4             22915           22870  ...     1.3851343804  -4.998355804   \n",
       "\n",
       "    RNETMIG2012   RNETMIG2013   RNETMIG2014   RNETMIG2015   RNETMIG2016  \\\n",
       "0  1.1863137707  1.5225486174  0.5634892079  0.6263573914  0.7451724354   \n",
       "1  -6.226118841  -3.902225545  1.9704433498  -1.712874805   4.777171297   \n",
       "2  17.488578535  22.751473911  20.184333668  17.725963762   21.27929069   \n",
       "3  -6.897816914   -8.13218497  -5.140430604  -15.72457483   -18.2380157   \n",
       "4  -3.787545142  -5.797999469  1.3311443404  1.3298167069  -0.708717222   \n",
       "\n",
       "    RNETMIG2017   RNETMIG2018   RNETMIG2019  \n",
       "0  1.0903664003  1.7737864964  2.4837435218  \n",
       "1  0.8496560701  0.5409157704  4.5600617583  \n",
       "2  22.398255745  24.727215272  24.380567187  \n",
       "3  -24.99852834  -8.754922145  -5.165664474  \n",
       "4  -3.234668557   -6.85709197  1.8319519224  \n",
       "\n",
       "[5 rows x 164 columns]"
      ]
     },
     "execution_count": 3,
     "metadata": {},
     "output_type": "execute_result"
    }
   ],
   "source": [
    "df.toPandas().head()"
   ]
  },
  {
   "cell_type": "code",
   "execution_count": 4,
   "metadata": {},
   "outputs": [],
   "source": [
    "stateDF = (df.withColumn(\"CENSUS2010POP\", df[\"CENSUS2010POP\"].cast(IntegerType()))\n",
    "  .select(\"STNAME\",\"CENSUS2010POP\")\n",
    "  .where(\"SUMLEV = 040 and CENSUS2010POP > 100000\")\n",
    "  .orderBy(col(\"CENSUS2010POP\").desc())\n",
    "  .withColumnRenamed('STNAME', 'State')\n",
    "  .withColumnRenamed('CENSUS2010POP', 'Population')\n",
    ")"
   ]
  },
  {
   "cell_type": "code",
   "execution_count": 5,
   "metadata": {},
   "outputs": [
    {
     "data": {
      "text/plain": [
       "51"
      ]
     },
     "execution_count": 5,
     "metadata": {},
     "output_type": "execute_result"
    }
   ],
   "source": [
    "stateDF.select(\"Population\").count()"
   ]
  },
  {
   "cell_type": "code",
   "execution_count": 6,
   "metadata": {},
   "outputs": [
    {
     "data": {
      "text/plain": [
       "[Row(sum(Population)=308745538, stddev_samp(Population)=6823984.2713947)]"
      ]
     },
     "execution_count": 6,
     "metadata": {},
     "output_type": "execute_result"
    }
   ],
   "source": [
    "stateDF.agg(sum(\"Population\"),stddev(\"Population\")).collect()"
   ]
  },
  {
   "cell_type": "code",
   "execution_count": 7,
   "metadata": {},
   "outputs": [
    {
     "data": {
      "image/png": "[encoded data removed]",
      "text/plain": [
       "<Figure size 792x576 with 1 Axes>"
      ]
     },
     "metadata": {
      "needs_background": "light"
     },
     "output_type": "display_data"
    }
   ],
   "source": [
    "stateDF.toPandas().plot.bar(x=\"State\",figsize=(11,8), title=\"US Population by State\")\n",
    "plt.show()"
   ]
  },
  {
   "cell_type": "code",
   "execution_count": 8,
   "metadata": {},
   "outputs": [],
   "source": [
    "import boto3\n",
    "from botocore.client import Config\n",
    "\n",
    "s3 = boto3.resource('s3',\n",
    "                    endpoint_url=os.getenv('MLFLOW_S3_ENDPOINT_URL'),\n",
    "                    aws_access_key_id=os.getenv('AWS_ACCESS_KEY_ID'),\n",
    "                    aws_secret_access_key=os.getenv('AWS_SECRET_ACCESS_KEY'),\n",
    "                    config=Config(signature_version='s3v4'),\n",
    "                    region_name=os.getenv('AWS_DEFAULT_REGION'))"
   ]
  },
  {
   "cell_type": "code",
   "execution_count": 9,
   "metadata": {},
   "outputs": [],
   "source": [
    "s3.Bucket('data').download_file('tft.csv', '/opt/workspace/tft.csv')"
   ]
  },
  {
   "cell_type": "code",
   "execution_count": 10,
   "metadata": {},
   "outputs": [],
   "source": [
    "tdf=spark.read.csv(\"tft.csv\", header=True)"
   ]
  },
  {
   "cell_type": "code",
   "execution_count": 11,
   "metadata": {},
   "outputs": [
    {
     "data": {
      "text/html": [
       "<div>\n",
       "<style scoped>\n",
       "    .dataframe tbody tr th:only-of-type {\n",
       "        vertical-align: middle;\n",
       "    }\n",
       "\n",
       "    .dataframe tbody tr th {\n",
       "        vertical-align: top;\n",
       "    }\n",
       "\n",
       "    .dataframe thead th {\n",
       "        text-align: right;\n",
       "    }\n",
       "</style>\n",
       "<table border=\"1\" class=\"dataframe\">\n",
       "  <thead>\n",
       "    <tr style=\"text-align: right;\">\n",
       "      <th></th>\n",
       "      <th>short_name</th>\n",
       "      <th>platform_id</th>\n",
       "    </tr>\n",
       "  </thead>\n",
       "  <tbody>\n",
       "    <tr>\n",
       "      <th>0</th>\n",
       "      <td>LTI</td>\n",
       "      <td>310638</td>\n",
       "    </tr>\n",
       "    <tr>\n",
       "      <th>1</th>\n",
       "      <td>LTI</td>\n",
       "      <td>311802</td>\n",
       "    </tr>\n",
       "    <tr>\n",
       "      <th>2</th>\n",
       "      <td>LTI</td>\n",
       "      <td>10314466</td>\n",
       "    </tr>\n",
       "    <tr>\n",
       "      <th>3</th>\n",
       "      <td>MDI</td>\n",
       "      <td>10314568</td>\n",
       "    </tr>\n",
       "    <tr>\n",
       "      <th>4</th>\n",
       "      <td>LTI</td>\n",
       "      <td>10314700</td>\n",
       "    </tr>\n",
       "  </tbody>\n",
       "</table>\n",
       "</div>"
      ],
      "text/plain": [
       "  short_name platform_id\n",
       "0        LTI      310638\n",
       "1        LTI      311802\n",
       "2        LTI    10314466\n",
       "3        MDI    10314568\n",
       "4        LTI    10314700"
      ]
     },
     "execution_count": 11,
     "metadata": {},
     "output_type": "execute_result"
    }
   ],
   "source": [
    "tdf.toPandas().head()"
   ]
  },
  {
   "cell_type": "code",
   "execution_count": 12,
   "metadata": {},
   "outputs": [
    {
     "name": "stdout",
     "output_type": "stream",
     "text": [
      " 1kings.txt\t\t\t      noaa-weather-data-jfk-airport.tar.gz\n",
      "'Testing Cluster.ipynb'\t\t      outputs\n",
      " a2_w1_s3_ETL.ipynb\t\t      pyspark.ipynb\n",
      " a6_w1_ex1.ipynb\t\t      scala.ipynb\n",
      " a6_w4_assignment.ipynb\t\t     'sherlock count.ipynb'\n",
      " airflow\t\t\t      sherlock.txt\n",
      " co-est2019-alldata.csv\t\t     'spark programming overview.ipynb'\n",
      " delta-example.ipynb\t\t      sparkr.ipynb\n",
      " delta-test\t\t\t      streaming.py\n",
      " dsas\t\t\t\t      tft.csv\n",
      " health_profile_data.snappy.parquet   tmp.sh\n",
      " iris.data\t\t\t      user_profile_data.snappy.parquet\n",
      "'mlflow test.ipynb'\t\t      usr\n",
      " noaa-weather-data-jfk-airport\t      wordcount.py\n"
     ]
    }
   ],
   "source": [
    "!ls"
   ]
  },
  {
   "cell_type": "code",
   "execution_count": 13,
   "metadata": {},
   "outputs": [],
   "source": [
    "s3.Bucket('data').upload_file('sherlock.txt','sherlock.txt')"
   ]
  },
  {
   "cell_type": "code",
   "execution_count": 2,
   "metadata": {},
   "outputs": [],
   "source": [
    "spark.stop()"
   ]
  }
 ],
 "metadata": {
  "kernelspec": {
   "display_name": "Python 3",
   "language": "python",
   "name": "python3"
  },
  "language_info": {
   "codemirror_mode": {
    "name": "ipython",
    "version": 3
   },
   "file_extension": ".py",
   "mimetype": "text/x-python",
   "name": "python",
   "nbconvert_exporter": "python",
   "pygments_lexer": "ipython3",
   "version": "3.8.6"
  }
 },
 "nbformat": 4,
 "nbformat_minor": 4
}
