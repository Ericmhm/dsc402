{
 "cells": [
  {
   "cell_type": "markdown",
   "metadata": {
    "application/vnd.databricks.v1+cell": {
     "inputWidgets": {},
     "nuid": "2a317cd3-1ff3-4402-9a0e-6c18c146eb75",
     "showTitle": false,
     "title": ""
    }
   },
   "source": [
    "<a rel=\"license\" href=\"http://creativecommons.org/licenses/by-nc-nd/4.0/\"><img alt=\"Creative Commons License\" style=\"border-width:0\" src=\"https://i.creativecommons.org/l/by-nc-nd/4.0/88x31.png\" /></a><br />This work is licensed under a <a rel=\"license\" href=\"http://creativecommons.org/licenses/by-nc-nd/4.0/\">Creative Commons Attribution-NonCommercial-NoDerivatives 4.0 International License</a>.\n",
    "\n",
    "<div style=\"text-align: left; line-height: 0; padding-top: 9px;\">\n",
    "  <img src=\"https://drive.google.com/uc?export=view&id=1ILbthTP3pUJMrbN0HawvChIXCnyM9-l1\" alt=\"Data Science at Scale\" style=\"width: 600px\">\n",
    "</div>"
   ]
  },
  {
   "cell_type": "markdown",
   "metadata": {
    "application/vnd.databricks.v1+cell": {
     "inputWidgets": {},
     "nuid": "aa450184-b268-49c9-9f64-1e3ad2f92dc7",
     "showTitle": false,
     "title": ""
    }
   },
   "source": [
    "## Sign-up for Databricks Community Edition\n",
    "- <a href=https://community.cloud.databricks.com/>Community Edition Sign-up</a>"
   ]
  },
  {
   "cell_type": "markdown",
   "metadata": {
    "application/vnd.databricks.v1+cell": {
     "inputWidgets": {},
     "nuid": "d42d6671-9ef2-4c57-a62a-3732b20b31d8",
     "showTitle": false,
     "title": ""
    }
   },
   "source": [
    "## Explore the quick start tutorial on the home page"
   ]
  },
  {
   "cell_type": "markdown",
   "metadata": {
    "application/vnd.databricks.v1+cell": {
     "inputWidgets": {},
     "nuid": "a169a3ac-1785-4f42-8bb0-e3e4e3216f6e",
     "showTitle": false,
     "title": ""
    }
   },
   "source": [
    "# **Notebooks**\n",
    "Write Apache Spark code to process your data in notebooks."
   ]
  },
  {
   "cell_type": "markdown",
   "metadata": {
    "application/vnd.databricks.v1+cell": {
     "inputWidgets": {},
     "nuid": "0c1ad105-63df-4005-8927-839f5f28c547",
     "showTitle": false,
     "title": ""
    }
   },
   "source": [
    "### **Creating a new Notebook**\n",
    "\n",
    " ![Change Name](http://training.databricks.com/databricks_guide/Notebook/createNotebook.png)\n",
    "\n",
    "  * Click the triangle on the right side of a folder to open the folder menu.\n",
    "  * Select **Create > Notebook**.\n",
    "  * Enter the name of the notebook, the language (Python, Scala, R or SQL) for the notebook, and a cluster to run it on."
   ]
  },
  {
   "cell_type": "markdown",
   "metadata": {
    "application/vnd.databricks.v1+cell": {
     "inputWidgets": {},
     "nuid": "4b04e073-e99d-4a3a-a9cc-f8f42077cdc9",
     "showTitle": false,
     "title": ""
    }
   },
   "source": [
    "### ** Cloning a Notebook**\n",
    "  * You can clone a notebook to create a copy of it, for example if you want to edit or run an Example notebook like this one.\n",
    "  * Click **File > Clone** in the notebook context bar above.\n",
    "  * Enter a new name and location for your notebook. If Access Control is enabled, you can only clone to folders that you have Manage permissions on.\n",
    "  \n",
    "    ![Change Name](http://training.databricks.com/databricks_guide/Notebook/clonedialog.png)\n",
    "    \n",
    "## Importing a Notebook\n",
    "\n",
    "There is one core way to import a notebook, either from your local machine or from a URL. Depending on your view, there will either be a `import notebook` button at the top right or a`clone notebook` at the top right of a given notebook page. You may have to scroll to the top of the page to see this button.\n",
    "\n",
    "Once you click that, you'll either be presented with a dialogue within your Databricks environment or be presented with a URL. Copy that URL to your clipboard and then navigate to your Databricks environment, select the `Import` link from any folder and import and run the notebook.\n",
    "\n",
    "![Import Notebook](http://training.databricks.com/databricks_guide/import_dialog.gif)"
   ]
  },
  {
   "cell_type": "markdown",
   "metadata": {
    "application/vnd.databricks.v1+cell": {
     "inputWidgets": {},
     "nuid": "9d141478-4074-4d08-a80c-dc62a4ee8141",
     "showTitle": false,
     "title": ""
    }
   },
   "source": [
    "### Use the Context Bar to control a notebook.\n",
    "\n",
    "The context bar is at the top of the notebook:\n",
    "\n",
    "![Context Bar Left](http://training.databricks.com/databricks_guide/Notebook/contextBar.png) ![Context Bar Right](http://training.databricks.com/databricks_guide/Notebook/contextBarRight4.png)\n",
    "\n",
    "#### Attach/Detach Menu\n",
    "\n",
    "Use this menu to attach or detach your notebook to a cluster, and to view cluster information.\n",
    "* **Restart Cluster**: Restart the cluster that the notebook is attached to. **Note:** This will affect all other notebooks attached to the same cluster.\n",
    "* **View Spark UI**: View the UI of Spark on the cluster that the notebook is running on. When you run spark commands in your notebook, they appear in the Spark UI,\n",
    "* **View Driver Logs**: View the standard output and error logs of the driver on the cluster. The driver is the program executing your notebook and all other notebooks running on the same cluster.\n",
    "\n",
    "#### View Menu\n",
    "* **Code**: This is the normal notebook view, where both your code and the results of running your code are visible.\n",
    "* **Results Only**: This view hides the commands in your notebook and shows only the results. You can still run your cells.\n",
    "\n",
    "#### File Menu\n",
    "* **Clone** the notebook. Makes a copy of the notebook.\n",
    "* **Rename** the notebook.\n",
    "* **Move** the notebook to another folder.\n",
    "* **Delete** the notebook.  (**Use caution** - this cannot be undone!)\n",
    "* **Export** the notebook.\n",
    "  * **DBC Archive**: a format that you can use to restore the notebook to the workspace by choosing **Import Item** on a folder.\n",
    "  * **Source File**: a format that includes the source code in the notebook as a plain text file.\n",
    "  * **iPython Notebook**: a format that can be imported into iPython.\n",
    "  * **HTML**: a format that can be shared across Databricks shards or displayed elsewhere on the web.\n",
    "  \n",
    "#### Permissions (Professional Tier)\n",
    "\n",
    "Edit [who can access](../01 Databricks Overview/12 Access Controls/01 Workspace ACLs.html) the notebook. The Permissions button only appears if [Access Control](../01 Databricks Overview/12 Access Controls/01 Workspace ACLs.html) is enabled.\n",
    "\n",
    "#### Comments\n",
    "\n",
    "View comments that other users have left on code in a notebook. To leave a comment, click **Comments** to open the comments pane. Highlight any code in the notebook and click on the ![Comment Button](http://training.databricks.com/databricks_guide/Notebook/commentButton2.png).\n",
    "\n",
    "#### Revision History\n",
    "\n",
    "Click on Revision History to see older versions of a notebook. Click on a revision to preview it and click on **Restore this revision** to restore the version. Notebook revisions are saved periodically and you can save a specific revision manually by clicking **Save Now** in the revision History panel. Professional Tier customers can also link a notebook with Github."
   ]
  },
  {
   "cell_type": "markdown",
   "metadata": {
    "application/vnd.databricks.v1+cell": {
     "inputWidgets": {},
     "nuid": "d73e7eba-08b3-4b7b-8419-1774154966be",
     "showTitle": false,
     "title": ""
    }
   },
   "source": [
    "### A Notebook must be **attached** to a **cluster** if you want to run cells in it.\n",
    "* A **Cluster** is a group of machines which can run the commands in cells.\n",
    "* Check the upper left corner of your notebook to see if it is **Attached** or **Detached**.\n",
    "* If **Detached**, select a cluster to attach it to.\n",
    "\n",
    "![Attach Notebook](http://training.databricks.com/databricks_guide/2.12/detached.png)"
   ]
  },
  {
   "cell_type": "markdown",
   "metadata": {
    "application/vnd.databricks.v1+cell": {
     "inputWidgets": {},
     "nuid": "4921c31d-8130-4254-b7f7-3f22f8462b3e",
     "showTitle": false,
     "title": ""
    }
   },
   "source": [
    "### **Cells** are units of code that make up notebooks.\n",
    "![A Cell](http://training.databricks.com/databricks_guide/Notebook/cells.png)"
   ]
  },
  {
   "cell_type": "markdown",
   "metadata": {
    "application/vnd.databricks.v1+cell": {
     "inputWidgets": {},
     "nuid": "fe8c95d0-44de-4c2d-950f-f298af6f6392",
     "showTitle": false,
     "title": ""
    }
   },
   "source": [
    "### Cells can edited with the menu on the upper right-hand corner of the cell.\n",
    "\n",
    "![A Cell](http://training.databricks.com/databricks_guide/Notebook/cellmenu.png)\n",
    "\n",
    "Hover or select a cell to show the buttons.\n",
    "* Click the **-** to minimize a cell. Click the **+** to maximize a previously minimized cell.\n",
    "* Click the **x** to delete the cell. **Note:** You can not undo this action.\n",
    "* Click the **v** to show a menu with more options:\n",
    "  * **Copy**, **Cut**, or **Paste** a previously copied or cut cell.\n",
    "  * **Add a new cell** above or below the current one.\n",
    "  * **Move** the cell up or down.\n",
    "  * **Export** the cell as HTML that you can put on any website."
   ]
  },
  {
   "cell_type": "markdown",
   "metadata": {
    "application/vnd.databricks.v1+cell": {
     "inputWidgets": {},
     "nuid": "31c85827-8700-4a2a-9fad-193d6bc4ac70",
     "showTitle": false,
     "title": ""
    }
   },
   "source": [
    "### Cells can also be moved within a notebook using drag-and-drop.\n",
    "* Mouse over the bottom left side of a cell until the anchor icon ![Anchor Icon](http://training.databricks.com/databricks_guide/anchor.png) appears.\n",
    "* Click and drag the cell to its desired position in the notebook."
   ]
  },
  {
   "cell_type": "markdown",
   "metadata": {
    "application/vnd.databricks.v1+cell": {
     "inputWidgets": {},
     "nuid": "266f0635-6458-4cfb-a676-41be14330f0c",
     "showTitle": false,
     "title": ""
    }
   },
   "source": [
    "### ** Excercise: Create A New Markdown Cell in a Notebook.**\n",
    "* When you mouse between cells, an + sign will pop up in the center that you can click on to create a new cell.\n",
    "\n",
    " ![New Cell](http://training.databricks.com/databricks_guide/create_new_cell.png)\n",
    "* Type **%md Hello, world!** into your new cell.\n",
    "* **%md** indicates the cell is markdown.\n",
    "* **Tip:** To change a non-markdown cell to markdown, add **%md** to very start of the cell."
   ]
  },
  {
   "cell_type": "markdown",
   "metadata": {
    "application/vnd.databricks.v1+cell": {
     "inputWidgets": {},
     "nuid": "46232578-e888-43a3-9082-7dec7042233d",
     "showTitle": false,
     "title": ""
    }
   },
   "source": [
    "### **Running a cell in your notebook.**\n",
    "* #### Press **Shift+Enter** when in the cell to **run** it and proceed to the next cell.\n",
    "  * The cells contents should update.\n",
    "  ![Run cell](http://training.databricks.com/databricks_guide/run_cell.png)\n",
    "* **NOTE:** Cells are not automatically run each time you open it.\n",
    "  * Instead, the previous results from are saved and displayed.\n",
    "* #### Alternately, press **Ctrl+Enter** when in a cell to **run** it, but not proceed to the next cell."
   ]
  },
  {
   "cell_type": "markdown",
   "metadata": {
    "application/vnd.databricks.v1+cell": {
     "inputWidgets": {},
     "nuid": "e4929962-7cbc-47f2-8fd6-2798f545d70e",
     "showTitle": false,
     "title": ""
    }
   },
   "source": [
    "### Select ![Run All](http://training.databricks.com/databricks_guide/Notebook/runall.png) in the context bar to run all the cells within a notebook.\n",
    "\n",
    "* NOTE: The Notebook must attached to a cluster for the \"Run All\" option to appear."
   ]
  },
  {
   "cell_type": "markdown",
   "metadata": {
    "application/vnd.databricks.v1+cell": {
     "inputWidgets": {},
     "nuid": "c73df66b-d734-4b6b-afd4-5f03ad8794b9",
     "showTitle": false,
     "title": ""
    }
   },
   "source": [
    "### Cells each have a type - **scala**, **python**, **r**, **sql**, **filesystem**, **command line** or **markdown**.\n",
    "* While cells default to the type of the Notebook, other cell types are supported as well.\n",
    "* For example, Python Notebooks can contain python, sql, markdown, and even Scala cells. This lets you write notebooks that do use multiple languages.\n",
    "* This cell is in **markdown** and is used for documentation purposes."
   ]
  },
  {
   "cell_type": "markdown",
   "metadata": {
    "application/vnd.databricks.v1+cell": {
     "inputWidgets": {},
     "nuid": "d82c7d0e-7f30-4e55-b06b-f1ebbe305aad",
     "showTitle": false,
     "title": ""
    }
   },
   "source": [
    "### All types of cells can be created in any notebook, regardless of the language.\n",
    "\n",
    "To create a cell of another language, start the cell with:\n",
    "* `%md` - Markdown\n",
    "* `%sql` - SQL\n",
    "* `%scala` - Scala\n",
    "* `%python` - Python\n",
    "* `%r` - R\n",
    "* `%sh` - Shell\n",
    "* `%fs` - Databricks File System"
   ]
  },
  {
   "cell_type": "markdown",
   "metadata": {
    "application/vnd.databricks.v1+cell": {
     "inputWidgets": {},
     "nuid": "700ab9d6-0c51-4c30-b312-9905d421521b",
     "showTitle": false,
     "title": ""
    }
   },
   "source": [
    "### Default types"
   ]
  },
  {
   "cell_type": "code",
   "execution_count": null,
   "metadata": {
    "application/vnd.databricks.v1+cell": {
     "inputWidgets": {},
     "nuid": "a235712c-9965-4648-9631-827b8d5c66de",
     "showTitle": false,
     "title": ""
    }
   },
   "outputs": [],
   "source": [
    "print \"I am a python cell by default as this is in a python notebook\""
   ]
  },
  {
   "cell_type": "markdown",
   "metadata": {
    "application/vnd.databricks.v1+cell": {
     "inputWidgets": {},
     "nuid": "a572ad92-c3c9-46d5-a5f7-52036db18ae8",
     "showTitle": false,
     "title": ""
    }
   },
   "source": [
    "### Python cells: Use %py"
   ]
  },
  {
   "cell_type": "code",
   "execution_count": null,
   "metadata": {
    "application/vnd.databricks.v1+cell": {
     "inputWidgets": {},
     "nuid": "62b238f4-0452-493d-a0d8-47cff28637f8",
     "showTitle": false,
     "title": ""
    }
   },
   "outputs": [],
   "source": [
    "%py\n",
    "\n",
    "print \"Use %py when you want Python cells.\""
   ]
  },
  {
   "cell_type": "markdown",
   "metadata": {
    "application/vnd.databricks.v1+cell": {
     "inputWidgets": {},
     "nuid": "3eab3417-8e88-4eb9-b402-a8bbc96385e6",
     "showTitle": false,
     "title": ""
    }
   },
   "source": [
    "### Scala cells: Use %scala"
   ]
  },
  {
   "cell_type": "code",
   "execution_count": null,
   "metadata": {
    "application/vnd.databricks.v1+cell": {
     "inputWidgets": {},
     "nuid": "b0a9aa0a-fecd-4bb4-9419-82a643a2d7de",
     "showTitle": false,
     "title": ""
    }
   },
   "outputs": [],
   "source": [
    "%scala\n",
    "\n",
    "println(\"Use %scala when you want Scala cells.\")"
   ]
  },
  {
   "cell_type": "markdown",
   "metadata": {
    "application/vnd.databricks.v1+cell": {
     "inputWidgets": {},
     "nuid": "9f504ca1-32ce-4093-b92c-abc6958b65aa",
     "showTitle": false,
     "title": ""
    }
   },
   "source": [
    "### R cells: Use %r"
   ]
  },
  {
   "cell_type": "code",
   "execution_count": null,
   "metadata": {
    "application/vnd.databricks.v1+cell": {
     "inputWidgets": {},
     "nuid": "bd013eb2-8a0e-4a54-a1f0-4c759897d8e5",
     "showTitle": false,
     "title": ""
    }
   },
   "outputs": [],
   "source": [
    "%r help()"
   ]
  },
  {
   "cell_type": "markdown",
   "metadata": {
    "application/vnd.databricks.v1+cell": {
     "inputWidgets": {},
     "nuid": "2b95130b-9e16-43aa-9a8c-a9ae4ae762f6",
     "showTitle": false,
     "title": ""
    }
   },
   "source": [
    "### SQL cells: Use %sql"
   ]
  },
  {
   "cell_type": "code",
   "execution_count": null,
   "metadata": {
    "application/vnd.databricks.v1+cell": {
     "inputWidgets": {},
     "nuid": "33882b5d-0402-41f9-b4a4-551504d0ef89",
     "showTitle": false,
     "title": ""
    }
   },
   "outputs": [],
   "source": [
    "%sql show functions"
   ]
  },
  {
   "cell_type": "markdown",
   "metadata": {
    "application/vnd.databricks.v1+cell": {
     "inputWidgets": {},
     "nuid": "b5b5c614-2a1e-4a9d-87e5-f49e2cb82e4a",
     "showTitle": false,
     "title": ""
    }
   },
   "source": [
    "### Markdown Cells: Use %md"
   ]
  },
  {
   "cell_type": "markdown",
   "metadata": {
    "application/vnd.databricks.v1+cell": {
     "inputWidgets": {},
     "nuid": "65682aed-ce33-46aa-9582-21dbc06da178",
     "showTitle": false,
     "title": ""
    }
   },
   "source": [
    "Markdown cells are used throughout the Databricks Guide for documentation purposes."
   ]
  },
  {
   "cell_type": "markdown",
   "metadata": {
    "application/vnd.databricks.v1+cell": {
     "inputWidgets": {},
     "nuid": "cf9ec44f-22dd-4b70-b61a-efc0c0872618",
     "showTitle": false,
     "title": ""
    }
   },
   "source": [
    "### Shell Cells: Use %sh"
   ]
  },
  {
   "cell_type": "code",
   "execution_count": null,
   "metadata": {
    "application/vnd.databricks.v1+cell": {
     "inputWidgets": {},
     "nuid": "3a3442ea-4622-4796-86a0-c12c25fb9427",
     "showTitle": false,
     "title": ""
    }
   },
   "outputs": [],
   "source": [
    "%sh man bash"
   ]
  },
  {
   "cell_type": "markdown",
   "metadata": {
    "application/vnd.databricks.v1+cell": {
     "inputWidgets": {},
     "nuid": "3cbafd7a-ce16-45c6-a75d-94880f69c833",
     "showTitle": false,
     "title": ""
    }
   },
   "source": [
    "### Databricks File System Cells: Use %fs\n",
    "\n",
    "Filesystem cells allow access to the [Databricks File System](../01 Databricks Overview/10 Databricks File System - DBFS.html).\n",
    "* Type `%fs help` for a list of commands"
   ]
  },
  {
   "cell_type": "code",
   "execution_count": null,
   "metadata": {
    "application/vnd.databricks.v1+cell": {
     "inputWidgets": {},
     "nuid": "0c48496c-3ece-47cb-a75a-39e53d1920b4",
     "showTitle": false,
     "title": ""
    }
   },
   "outputs": [],
   "source": [
    "%fs help"
   ]
  },
  {
   "cell_type": "code",
   "execution_count": null,
   "metadata": {
    "application/vnd.databricks.v1+cell": {
     "inputWidgets": {},
     "nuid": "b7cab182-9d52-4701-ac09-c9cd7b9d289d",
     "showTitle": false,
     "title": ""
    }
   },
   "outputs": [],
   "source": [
    "%fs ls dbfs:/databricks-datasets/"
   ]
  },
  {
   "cell_type": "code",
   "execution_count": null,
   "metadata": {
    "application/vnd.databricks.v1+cell": {
     "inputWidgets": {},
     "nuid": "df13d8b0-6d70-4a1a-a0c3-6d846f2b6e11",
     "showTitle": false,
     "title": ""
    }
   },
   "outputs": [],
   "source": [
    "%fs put --overwrite=true /tmp/testing/test-file \"\"\"\n",
    "Filesystem cells can do anything the dbutils.fs module can. For example, here we write this text to DBFS,\n",
    "and in the next cell we read it back.\n",
    "\"\"\""
   ]
  },
  {
   "cell_type": "code",
   "execution_count": null,
   "metadata": {
    "application/vnd.databricks.v1+cell": {
     "inputWidgets": {},
     "nuid": "e96261c0-e941-45a6-b97f-5a89516215a4",
     "showTitle": false,
     "title": ""
    }
   },
   "outputs": [],
   "source": [
    "%fs head /tmp/testing/test-file"
   ]
  },
  {
   "cell_type": "code",
   "execution_count": null,
   "metadata": {
    "application/vnd.databricks.v1+cell": {
     "inputWidgets": {},
     "nuid": "0ef58514-a9b5-4c4f-9990-bbc094ddcb02",
     "showTitle": false,
     "title": ""
    }
   },
   "outputs": [],
   "source": [
    "%fs rm -r /tmp/testing"
   ]
  },
  {
   "cell_type": "markdown",
   "metadata": {
    "application/vnd.databricks.v1+cell": {
     "inputWidgets": {},
     "nuid": "051c7607-c99f-4b77-8543-dd219d781111",
     "showTitle": false,
     "title": ""
    }
   },
   "source": [
    "### Notebooks can be run from other notebooks using **%run**\n",
    "* Syntax: `%run /full/path/to/notebook`\n",
    "* This is commonly used to import functions you defined in other notebooks."
   ]
  },
  {
   "cell_type": "code",
   "execution_count": null,
   "metadata": {
    "application/vnd.databricks.v1+cell": {
     "inputWidgets": {},
     "nuid": "ab77ad68-4c7f-4a73-93c9-f2e34fdba709",
     "showTitle": false,
     "title": ""
    }
   },
   "outputs": [],
   "source": []
  }
 ],
 "metadata": {
  "application/vnd.databricks.v1+notebook": {
   "dashboards": [],
   "language": "python",
   "notebookName": "00_Getting Started with DBCE",
   "notebookOrigID": 3479608278317697,
   "widgets": {}
  },
  "kernelspec": {
   "display_name": "Python 3",
   "language": "python",
   "name": "python3"
  },
  "language_info": {
   "codemirror_mode": {
    "name": "ipython",
    "version": 3
   },
   "file_extension": ".py",
   "mimetype": "text/x-python",
   "name": "python",
   "nbconvert_exporter": "python",
   "pygments_lexer": "ipython3",
   "version": "3.8.6"
  }
 },
 "nbformat": 4,
 "nbformat_minor": 4
}
